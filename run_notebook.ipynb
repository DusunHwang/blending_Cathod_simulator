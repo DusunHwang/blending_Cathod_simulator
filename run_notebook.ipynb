{
 "cells": [
  {
   "cell_type": "markdown",
   "metadata": {},
   "source": [
    "# Blending Cathode Simulation\n",
    "This notebook installs required packages, trains a simple regression model, and runs the PyBaMM simulation for a blended cathode."
   ]
  },
  {
   "cell_type": "code",
   "metadata": {},
   "source": [
    "!pip install torch scikit-learn matplotlib pandas numpy pybamm -q"
   ]
  },
  {
   "cell_type": "code",
   "metadata": {},
   "source": [
    "!python train_regressor.py --epochs 50 --lr 0.01"
   ]
  },
  {
   "cell_type": "code",
   "metadata": {},
   "source": [
    "!python simulate_blend.py --blend 0.5"
   ]
  }
 ],
 "metadata": {
  "kernelspec": {
   "display_name": "Python 3",
   "language": "python",
   "name": "python3"
  },
  "language_info": {
   "name": "python",
   "pygments_lexer": "ipython3"
  }
 },
 "nbformat": 4,
 "nbformat_minor": 5
}
